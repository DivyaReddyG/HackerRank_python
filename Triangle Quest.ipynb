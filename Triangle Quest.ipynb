{
 "cells": [
  {
   "cell_type": "markdown",
   "metadata": {},
   "source": [
    "2. You are given a positive integer . Print a numerical triangle of height\n",
    "\n",
    "    like the one below:\n",
    "\n",
    "    1\n",
    "    22\n",
    "    333\n",
    "    4444\n",
    "    55555\n",
    "    ......\n",
    "\n",
    "    Can you do it using only arithmetic operations, a single for loop and print statement?\n",
    "\n",
    "    Use no more than two lines. The first line (the for statement) is already written for you. You have to complete the print statement.\n",
    "\n",
    "    Note: Using anything related to strings will give a score of\n",
    "\n",
    "    .\n",
    "\n",
    "    Input Format\n",
    "    A single line containing integer,\n",
    "\n",
    "    .\n",
    "\n",
    "    Constraints\n",
    "    Output Format\n",
    "    Print\n",
    "\n",
    "    lines as explained above.\n",
    "\n",
    "    Sample Input\n",
    "\n",
    "    5\n",
    "\n",
    "    Sample Output\n",
    "\n",
    "    1\n",
    "    22\n",
    "    333\n",
    "    4444\n"
   ]
  },
  {
   "cell_type": "code",
   "execution_count": 1,
   "metadata": {},
   "outputs": [
    {
     "name": "stdout",
     "output_type": "stream",
     "text": [
      "5\n",
      "1\n",
      "22\n",
      "333\n",
      "4444\n"
     ]
    }
   ],
   "source": [
    "for i in range(1, int(input())):\n",
    "    print((10**i//9)*i)"
   ]
  },
  {
   "cell_type": "code",
   "execution_count": null,
   "metadata": {},
   "outputs": [],
   "source": []
  }
 ],
 "metadata": {
  "kernelspec": {
   "display_name": "Python 3",
   "language": "python",
   "name": "python3"
  },
  "language_info": {
   "codemirror_mode": {
    "name": "ipython",
    "version": 3
   },
   "file_extension": ".py",
   "mimetype": "text/x-python",
   "name": "python",
   "nbconvert_exporter": "python",
   "pygments_lexer": "ipython3",
   "version": "3.7.4"
  }
 },
 "nbformat": 4,
 "nbformat_minor": 2
}
